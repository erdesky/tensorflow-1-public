{
 "cells": [
  {
   "cell_type": "markdown",
   "id": "a7029ad2",
   "metadata": {},
   "source": [
    "# Week 1: Explore the BBC News archive\n",
    "\n",
    "Welcome! In this assignment you will be working with a variation of the [BBC News Classification Dataset](https://www.kaggle.com/c/learn-ai-bbc/overview), which contains 2225 examples of news articles with their respective categories.\n",
    "\n",
    "\n",
    "#### TIPS FOR SUCCESSFUL GRADING OF YOUR ASSIGNMENT:\n",
    "- All cells are frozen except for the ones where you need to submit your solutions or when explicitly mentioned you can interact with it.\n",
    "\n",
    "- You can add new cells to experiment but these will be omitted by the grader, so don't rely on newly created cells to host your solution code, use the provided places for this.\n",
    "- You can add the comment # grade-up-to-here in any graded cell to signal the grader that it must only evaluate up to that point. This is helpful if you want to check if you are on the right track even if you are not done with the whole assignment. Be sure to remember to delete the comment afterwards!\n",
    "- Avoid using global variables unless you absolutely have to. The grader tests your code in an isolated environment without running all cells from the top. As a result, global variables may be unavailable when scoring your submission. Global variables that are meant to be used will be defined in UPPERCASE.\n",
    "- To submit your notebook, save it and then click on the blue submit button at the beginning of the page.\n",
    "\n",
    "\n",
    "Let's get started!"
   ]
  },
  {
   "cell_type": "code",
   "execution_count": 1,
   "id": "18e757f2",
   "metadata": {
    "colab": {
     "base_uri": "https://localhost:8080/"
    },
    "deletable": false,
    "editable": false,
    "id": "zrZevCPJ92HG",
    "outputId": "4ba10d10-1433-42fc-dc8e-83b297705cfe",
    "tags": [
     "graded"
    ]
   },
   "outputs": [],
   "source": [
    "import csv\n",
    "import pandas as pd\n",
    "import numpy as np\n",
    "import tensorflow as tf"
   ]
  },
  {
   "cell_type": "code",
   "execution_count": 2,
   "id": "48119af8-9469-420c-acb6-d57f03e1f20a",
   "metadata": {
    "deletable": false,
    "editable": false
   },
   "outputs": [],
   "source": [
    "import unittests"
   ]
  },
  {
   "cell_type": "markdown",
   "id": "f2ee7f84",
   "metadata": {},
   "source": [
    "Begin by looking at the structure of the csv that contains the data:"
   ]
  },
  {
   "cell_type": "code",
   "execution_count": 3,
   "id": "ffae3497",
   "metadata": {
    "deletable": false,
    "editable": false
   },
   "outputs": [
    {
     "name": "stdout",
     "output_type": "stream",
     "text": [
      "First line (header) looks like this:\n",
      "\n",
      "category,text\n",
      "\n",
      "Each data point looks like this:\n",
      "\n",
      "tech,tv future in the hands of viewers with home theatre systems  plasma high-definition tvs  and digital video recorders moving into the living room  the way people watch tv will be radically different in five years  time.  that is according to an expert panel which gathered at the annual consumer electronics show in las vegas to discuss how these new technologies will impact one of our favourite pastimes. with the us leading the trend  programmes and other content will be delivered to viewers via home networks  through cable  satellite  telecoms companies  and broadband service providers to front rooms and portable devices.  one of the most talked-about technologies of ces has been digital and personal video recorders (dvr and pvr). these set-top boxes  like the us s tivo and the uk s sky+ system  allow people to record  store  play  pause and forward wind tv programmes when they want.  essentially  the technology allows for much more personalised tv. they are also being built-in to high-definition tv sets  which are big business in japan and the us  but slower to take off in europe because of the lack of high-definition programming. not only can people forward wind through adverts  they can also forget about abiding by network and channel schedules  putting together their own a-la-carte entertainment. but some us networks and cable and satellite companies are worried about what it means for them in terms of advertising revenues as well as  brand identity  and viewer loyalty to channels. although the us leads in this technology at the moment  it is also a concern that is being raised in europe  particularly with the growing uptake of services like sky+.  what happens here today  we will see in nine months to a years  time in the uk   adam hume  the bbc broadcast s futurologist told the bbc news website. for the likes of the bbc  there are no issues of lost advertising revenue yet. it is a more pressing issue at the moment for commercial uk broadcasters  but brand loyalty is important for everyone.  we will be talking more about content brands rather than network brands   said tim hanlon  from brand communications firm starcom mediavest.  the reality is that with broadband connections  anybody can be the producer of content.  he added:  the challenge now is that it is hard to promote a programme with so much choice.   what this means  said stacey jolna  senior vice president of tv guide tv group  is that the way people find the content they want to watch has to be simplified for tv viewers. it means that networks  in us terms  or channels could take a leaf out of google s book and be the search engine of the future  instead of the scheduler to help people find what they want to watch. this kind of channel model might work for the younger ipod generation which is used to taking control of their gadgets and what they play on them. but it might not suit everyone  the panel recognised. older generations are more comfortable with familiar schedules and channel brands because they know what they are getting. they perhaps do not want so much of the choice put into their hands  mr hanlon suggested.  on the other end  you have the kids just out of diapers who are pushing buttons already - everything is possible and available to them   said mr hanlon.  ultimately  the consumer will tell the market they want.   of the 50 000 new gadgets and technologies being showcased at ces  many of them are about enhancing the tv-watching experience. high-definition tv sets are everywhere and many new models of lcd (liquid crystal display) tvs have been launched with dvr capability built into them  instead of being external boxes. one such example launched at the show is humax s 26-inch lcd tv with an 80-hour tivo dvr and dvd recorder. one of the us s biggest satellite tv companies  directtv  has even launched its own branded dvr at the show with 100-hours of recording capability  instant replay  and a search function. the set can pause and rewind tv for up to 90 hours. and microsoft chief bill gates announced in his pre-show keynote speech a partnership with tivo  called tivotogo  which means people can play recorded programmes on windows pcs and mobile devices. all these reflect the increasing trend of freeing up multimedia so that people can watch what they want  when they want.\n",
      "\n"
     ]
    }
   ],
   "source": [
    "with open(\"./data/bbc-text.csv\", 'r') as csvfile:\n",
    "    print(f\"First line (header) looks like this:\\n\\n{csvfile.readline()}\")\n",
    "    print(f\"Each data point looks like this:\\n\\n{csvfile.readline()}\")"
   ]
  },
  {
   "cell_type": "markdown",
   "id": "1624e420",
   "metadata": {},
   "source": [
    "As you can see, each data point is composed of the category of the news article followed by a comma and then the actual text of the article."
   ]
  },
  {
   "cell_type": "markdown",
   "id": "28e9d216",
   "metadata": {},
   "source": [
    "## Exercise 1: parse_data_from_file\n",
    "\n",
    "The csv is a very common format to store data and you will probably encounter it many times so it is good to be comfortable with it. Your first exercise will be to read the data from the raw csv file so you can analyze it and built models around it. To do so, complete the `parse_data_from_file` function below. \n",
    "\n",
    "Since this format is so common there are a lot of ways to deal with this files using python, both using the standard library or third party libraries such as [pandas](https://pandas.pydata.org/). Because of this the implementation details are entirely up to you, **the only requirement is that your function returns the `sentences` and `labels` as regular python lists**.\n",
    "\n",
    "**Hints**:\n",
    "- Remember the file contains headers so take this into consideration.\n",
    "\n",
    "\n",
    "- If you are unfamiliar with  libraries such as pandas or numpy and you prefer to use python's standard library, take a look at [`csv.reader`](https://docs.python.org/3/library/csv.html#csv.reader), which lets you iterate over the lines of a csv file. \n",
    "- You can use the [`read_csv`](https://pandas.pydata.org/pandas-docs/stable/reference/api/pandas.read_csv.html) function from the pandas library.\n",
    "- You can use the [`loadtxt`](https://numpy.org/doc/stable/reference/generated/numpy.loadtxt.html) function from the numpy library.\n",
    "- If you use any of the two latter approaches remember you still need to convert the `sentences` and `labels` to regular python lists, so take a look at the docs to see how it can be done.\n"
   ]
  },
  {
   "cell_type": "code",
   "execution_count": 11,
   "id": "fd40ca26",
   "metadata": {
    "deletable": false,
    "tags": [
     "graded"
    ]
   },
   "outputs": [],
   "source": [
    "# GRADED FUNCTION: parse_data_from_file\n",
    "\n",
    "def parse_data_from_file(filename):\n",
    "    \"\"\"\n",
    "    Extracts sentences and labels from a CSV file\n",
    "    \n",
    "    Args:\n",
    "        filename (str): path to the CSV file\n",
    "    \n",
    "    Returns:\n",
    "        (list[str], list[str]): tuple containing lists of sentences and labels\n",
    "    \"\"\"\n",
    "    #sentences = []\n",
    "    #labels = []\n",
    "\n",
    "    ### START CODE HERE ###\n",
    "    df = pd.read_csv(filename)\n",
    "    labels, sentences = df['category'].tolist(), df['text'].tolist()\n",
    "\t\n",
    "    ### END CODE HERE ###\n",
    "\n",
    "    return sentences, labels"
   ]
  },
  {
   "cell_type": "code",
   "execution_count": 12,
   "id": "e2c9a86e",
   "metadata": {
    "deletable": false,
    "editable": false
   },
   "outputs": [
    {
     "name": "stdout",
     "output_type": "stream",
     "text": [
      "There are 2225 sentences in the dataset.\n",
      "\n",
      "First sentence has 737 words.\n",
      "\n",
      "There are 2225 labels in the dataset.\n",
      "\n",
      "The first 5 labels are ['tech', 'business', 'sport', 'sport', 'entertainment']\n",
      "\n",
      "\n"
     ]
    }
   ],
   "source": [
    "# Get sentences and labels as python lists\n",
    "sentences, labels = parse_data_from_file(\"./data/bbc-text.csv\")\n",
    "\n",
    "print(f\"There are {len(sentences)} sentences in the dataset.\\n\")\n",
    "print(f\"First sentence has {len(sentences[0].split())} words.\\n\")\n",
    "print(f\"There are {len(labels)} labels in the dataset.\\n\")\n",
    "print(f\"The first 5 labels are {labels[:5]}\\n\\n\")"
   ]
  },
  {
   "cell_type": "markdown",
   "id": "1f2bf934",
   "metadata": {},
   "source": [
    "***Expected Output:***\n",
    "```\n",
    "There are 2225 sentences in the dataset.\n",
    "\n",
    "First sentence has 737 words.\n",
    "\n",
    "There are 2225 labels in the dataset.\n",
    "\n",
    "The first 5 labels are ['tech', 'business', 'sport', 'sport', 'entertainment']\n",
    "\n",
    "```"
   ]
  },
  {
   "cell_type": "code",
   "execution_count": 13,
   "id": "f6ad47d2",
   "metadata": {
    "deletable": false,
    "editable": false
   },
   "outputs": [
    {
     "name": "stdout",
     "output_type": "stream",
     "text": [
      "\u001b[92m All tests passed!\n"
     ]
    }
   ],
   "source": [
    "# Test your code!\n",
    "unittests.test_parse_data_from_file(parse_data_from_file)"
   ]
  },
  {
   "cell_type": "markdown",
   "id": "2db58b95",
   "metadata": {},
   "source": [
    "**An important note:**\n",
    "\n",
    "At this point you typically would convert your data into a `tf.data.Dataset` (alternatively you could have used [tf.data.experimental.CsvDataset](https://www.tensorflow.org/api_docs/python/tf/data/experimental/CsvDataset) to do this directly but since this is an experimental feature it is better to avoid when possible) but for this assignment you will keep working with the data as regular python lists. \n",
    "\n",
    "The reason behind this is that by using a `tf.data.Dataset` some parts of this assignment will be much more difficult (in particular the next exercise), because when dealing with tensors you need to take additional considerations that you don't need to when dealing with lists and since this is the first assignment of the course, it is best to keep things simple. During next week's assignment you will get to see how this process looks like but for now carry on with the data in this format and worry not since TensorFlow is still compatible with these data formats!"
   ]
  },
  {
   "cell_type": "markdown",
   "id": "e9df59b3",
   "metadata": {},
   "source": [
    "## Exercise 2: standardize_func\n",
    "\n",
    "One important step when working with text data is to standardize it so it is easier to extract information out of it. For instance, you probably want to convert it all to lower-case (so the same word doesn't have different representations such as \"hello\" and \"Hello\") and to remove the [stopwords](https://en.wikipedia.org/wiki/Stop_word) from it. These are the most common words in the language and they rarely provide useful information for the classification process. The next cell provides a list of common stopwords which you can use in the exercise:\n",
    "\n",
    "\n"
   ]
  },
  {
   "cell_type": "code",
   "execution_count": 14,
   "id": "40742129",
   "metadata": {
    "deletable": false,
    "editable": false,
    "tags": [
     "graded"
    ]
   },
   "outputs": [],
   "source": [
    "# List of stopwords\n",
    "STOPWORDS = [\"a\", \"about\", \"above\", \"after\", \"again\", \"against\", \"all\", \"am\", \"an\", \"and\", \"any\", \"are\", \"as\", \"at\", \"be\", \"because\", \"been\", \"before\", \"being\", \"below\", \"between\", \"both\", \"but\", \"by\", \"could\", \"did\", \"do\", \"does\", \"doing\", \"down\", \"during\", \"each\", \"few\", \"for\", \"from\", \"further\", \"had\", \"has\", \"have\", \"having\", \"he\", \"he'd\", \"he'll\", \"he's\", \"her\", \"here\", \"here's\", \"hers\", \"herself\", \"him\", \"himself\", \"his\", \"how\", \"how's\", \"i\", \"i'd\", \"i'll\", \"i'm\", \"i've\", \"if\", \"in\", \"into\", \"is\", \"it\", \"it's\", \"its\", \"itself\", \"let's\", \"me\", \"more\", \"most\", \"my\", \"myself\", \"nor\", \"of\", \"on\", \"once\", \"only\", \"or\", \"other\", \"ought\", \"our\", \"ours\", \"ourselves\", \"out\", \"over\", \"own\", \"same\", \"she\", \"she'd\", \"she'll\", \"she's\", \"should\", \"so\", \"some\", \"such\", \"than\", \"that\", \"that's\", \"the\", \"their\", \"theirs\", \"them\", \"themselves\", \"then\", \"there\", \"there's\", \"these\", \"they\", \"they'd\", \"they'll\", \"they're\", \"they've\", \"this\", \"those\", \"through\", \"to\", \"too\", \"under\", \"until\", \"up\", \"very\", \"was\", \"we\", \"we'd\", \"we'll\", \"we're\", \"we've\", \"were\", \"what\", \"what's\", \"when\", \"when's\", \"where\", \"where's\", \"which\", \"while\", \"who\", \"who's\", \"whom\", \"why\", \"why's\", \"with\", \"would\", \"you\", \"you'd\", \"you'll\", \"you're\", \"you've\", \"your\", \"yours\", \"yourself\", \"yourselves\" ]"
   ]
  },
  {
   "cell_type": "markdown",
   "id": "7d81ac27",
   "metadata": {},
   "source": [
    "To achieve this, complete the `standardize_func` below. This function should receive a string and return another string that excludes all of the stopwords provided from it, as well as converting it to lower-case. \n",
    "\n",
    "**Hints:**\n",
    "- You only need to account for whitespace as the separation mechanism between words in the sentence.\n",
    "\n",
    "- The list of stopwords is already provided for you as a global variable you can safely use.\n",
    "\n",
    "- Check out the [lower](https://docs.python.org/3/library/stdtypes.html#str.lower) method for python strings.\n",
    "\n",
    "- The returned sentence should not include extra whitespace so the string \"hello&nbsp;&nbsp;&nbsp;&nbsp;&nbsp;&nbsp;&nbsp;again&nbsp;&nbsp;&nbsp;FRIENDS\" should be standardized to \"hello friends\"."
   ]
  },
  {
   "cell_type": "code",
   "execution_count": 38,
   "id": "33637e35",
   "metadata": {
    "deletable": false,
    "tags": [
     "graded"
    ]
   },
   "outputs": [],
   "source": [
    "# GRADED FUNCTION: standardize_func\n",
    "\n",
    "def standardize_func(sentence):\n",
    "    \"\"\"Standardizes sentences by converting to lower-case and removing stopwords.\n",
    "\n",
    "    Args:\n",
    "        sentence (str): Original sentence.\n",
    "\n",
    "    Returns:\n",
    "        str: Standardized sentence in lower-case and without stopwords.\n",
    "    \"\"\"\n",
    "    \n",
    "    ### START CODE HERE ###\n",
    "    sentence = sentence.lower().split()\n",
    "    sentence = [x for x in sentence if x not in STOPWORDS]\n",
    "    sentence = \" \".join([x for x in sentence if x not in \" \"])\n",
    "\t\n",
    "    ### END CODE HERE ###\n",
    "\n",
    "    return sentence"
   ]
  },
  {
   "cell_type": "code",
   "execution_count": 39,
   "id": "7ea8a832",
   "metadata": {
    "deletable": false,
    "editable": false
   },
   "outputs": [
    {
     "name": "stdout",
     "output_type": "stream",
     "text": [
      "Original sentence is:\n",
      "Hello! We're just about to see this function in action =)\n",
      "\n",
      "After standardizing:\n",
      "hello! just see function action =)\n",
      "\n",
      "\n",
      "--- Apply the standardization to the dataset ---\n",
      "\n",
      "There are 2225 sentences in the dataset.\n",
      "\n",
      "First sentence has 737 words originally.\n",
      "\n",
      "First sentence has 436 words (after removing stopwords).\n",
      "\n"
     ]
    }
   ],
   "source": [
    "test_sentence = \"Hello! We're just about to see this function in action =)\"\n",
    "standardized_sentence = standardize_func(test_sentence)\n",
    "print(f\"Original sentence is:\\n{test_sentence}\\n\\nAfter standardizing:\\n{standardized_sentence}\")\n",
    "\n",
    "standard_sentences = [standardize_func(sentence) for sentence in sentences]\n",
    "\n",
    "print(\"\\n\\n--- Apply the standardization to the dataset ---\\n\")\n",
    "print(f\"There are {len(standard_sentences)} sentences in the dataset.\\n\")\n",
    "print(f\"First sentence has {len(sentences[0].split())} words originally.\\n\")\n",
    "print(f\"First sentence has {len(standard_sentences[0].split())} words (after removing stopwords).\\n\")"
   ]
  },
  {
   "cell_type": "markdown",
   "id": "dc6541a8",
   "metadata": {},
   "source": [
    "***Expected Output:***\n",
    "```\n",
    "Original sentence is:\n",
    "Hello! We're just about to see this function in action =)\n",
    "\n",
    "After standardizing:\n",
    "hello! just see function action =)\n",
    "\n",
    "\n",
    "--- Apply the standardization to the dataset ---\n",
    "\n",
    "There are 2225 sentences in the dataset.\n",
    "\n",
    "First sentence has 737 words originally.\n",
    "\n",
    "First sentence has 436 words (after removing stopwords).\n",
    "\n",
    "```"
   ]
  },
  {
   "cell_type": "code",
   "execution_count": 40,
   "id": "a446bcc2-03b3-4c3a-8f20-35cf5f3ee91c",
   "metadata": {
    "deletable": false,
    "editable": false
   },
   "outputs": [
    {
     "name": "stdout",
     "output_type": "stream",
     "text": [
      "\u001b[92m All tests passed!\n"
     ]
    }
   ],
   "source": [
    "# Test your code!\n",
    "unittests.test_standardize_func(standardize_func)"
   ]
  },
  {
   "cell_type": "markdown",
   "id": "42be5c19",
   "metadata": {},
   "source": [
    "With the dataset standardized you could go ahead and convert it to a `tf.data.Dataset`, which you will NOT be doing for this assignment. However if you are curious, this can be achieved like this:\n",
    "\n",
    "```python\n",
    "dataset = tf.data.Dataset.from_tensor_slices((standard_sentences, labels))\n",
    "```"
   ]
  },
  {
   "cell_type": "markdown",
   "id": "93500124",
   "metadata": {},
   "source": [
    "## Exercise 3: fit_vectorizer\n",
    "\n",
    "Now that your data is standardized, it is time to vectorize the sentences of the dataset. For this complete the `fit_vectorizer` below. \n",
    "\n",
    "This function should receive the list of sentences as input and return a [`tf.keras.layers.TextVectorization`](https://www.tensorflow.org/api_docs/python/tf/keras/layers/TextVectorization) that has been adapted to those sentences."
   ]
  },
  {
   "cell_type": "code",
   "execution_count": 41,
   "id": "a27dedb7",
   "metadata": {
    "deletable": false,
    "tags": [
     "graded"
    ]
   },
   "outputs": [],
   "source": [
    "# GRADED FUNCTION: fit_vectorizer\n",
    "\n",
    "def fit_vectorizer(sentences):\n",
    "    \"\"\"\n",
    "    Instantiates the TextVectorization layer and adapts it to the sentences.\n",
    "    \n",
    "    Args:\n",
    "        sentences (list[str]): lower-cased sentences without stopwords\n",
    "    \n",
    "    Returns:\n",
    "        tf.keras.layers.TextVectorization: an instance of the TextVectorization layer adapted to the texts.\n",
    "    \"\"\"\n",
    "\n",
    "    ### START CODE HERE ###\n",
    "\n",
    "    # Instantiate the TextVectorization class\n",
    "    vectorizer = tf.keras.layers.TextVectorization(ragged=True)\n",
    "\n",
    "    # Adapt to the sentences\n",
    "    vectorizer.adapt(sentences)\n",
    "\n",
    "    ### END CODE HERE ###\n",
    "\n",
    "    return vectorizer"
   ]
  },
  {
   "cell_type": "code",
   "execution_count": 42,
   "id": "edfc1352-1a2c-4e70-b656-eba2a1e23f0d",
   "metadata": {
    "deletable": false,
    "editable": false
   },
   "outputs": [
    {
     "name": "stdout",
     "output_type": "stream",
     "text": [
      "Vocabulary contains 33088 words\n",
      "\n",
      "[UNK] token included in vocabulary\n"
     ]
    }
   ],
   "source": [
    "# Create the vectorizer adapted to the standardized sentences\n",
    "vectorizer = fit_vectorizer(standard_sentences)\n",
    "\n",
    "# Get the vocabulary\n",
    "vocabulary = vectorizer.get_vocabulary()\n",
    "\n",
    "print(f\"Vocabulary contains {len(vocabulary)} words\\n\")\n",
    "print(\"[UNK] token included in vocabulary\" if \"[UNK]\" in vocabulary else \"[UNK] token NOT included in vocabulary\")"
   ]
  },
  {
   "cell_type": "markdown",
   "id": "a909d650",
   "metadata": {},
   "source": [
    "***Expected Output:***\n",
    "```\n",
    "Vocabulary contains 33088 words\n",
    "\n",
    "[UNK] token included in vocabulary\n",
    "\n",
    "```"
   ]
  },
  {
   "cell_type": "code",
   "execution_count": 43,
   "id": "24289640-08f7-4b90-9ba5-936cba61e31a",
   "metadata": {
    "deletable": false,
    "editable": false
   },
   "outputs": [
    {
     "name": "stdout",
     "output_type": "stream",
     "text": [
      "\u001b[92m All tests passed!\n"
     ]
    }
   ],
   "source": [
    "# Test your code!\n",
    "unittests.test_fit_vectorizer(fit_vectorizer)"
   ]
  },
  {
   "cell_type": "markdown",
   "id": "4265c298",
   "metadata": {},
   "source": [
    "Next, you can use the adapted vectorizer to vectorize the sentences in your dataset. Notice that by default `tf.keras.layers.TextVectorization` pads the sequences so all of them have the same length (typically the length of the longest sentence will be used if no truncation is defined), this is important because neural networks expect the inputs to have the same size."
   ]
  },
  {
   "cell_type": "code",
   "execution_count": 44,
   "id": "679f64b3-5c56-41e0-8f35-33e254debf10",
   "metadata": {
    "deletable": false,
    "editable": false
   },
   "outputs": [
    {
     "name": "stdout",
     "output_type": "stream",
     "text": [
      "First padded sequence looks like this: \n",
      "\n",
      "[   93   155  1186  1157    52  1068   708  5259  1215  4211   131   174\n",
      "  4087  1371  1289  1619    45     8   900    93     4  6632   310   100\n",
      "    23    20   126  3102  1302  2480   556   398  1240    69  2915  3037\n",
      "  1718     9   850     4   724    12   910 24868    10   638  1521   999\n",
      "   391     4  1958  1157   738    52   471  1454  2059  1597   123   315\n",
      "   109  2694   869  5225  1039   580    12 22374   850  2543   131   328\n",
      "   174  4087  9542  5869  4383  3407    33    10     2  5796    22     2\n",
      "  1435   129   428     8   132  1383    75  4610   476  5434    93   999\n",
      "    79  6803    82  2086    61  9188    93     7  4708  1215    93  1936\n",
      "   138   148   394    10  2975    43    77   135  1167  1215  4404     5\n",
      "    13     8   476  5434  3126    13     7  2657 20329   383  1126  9070\n",
      "  1326   584 31687   719    10   471  1454  2059   123  1852   386   849\n",
      "  2036  1564    47  1892  2527  4949  5565  2491   230    10  2593    82\n",
      "   786     7  1045  1079   135   761   604  8945   124    33  1435  1780\n",
      "   415     4    84  1015   107    23    20    22  3422 27403    39  1413\n",
      "     2 14538    28    39    88   340  2325    39    25   440   220  2036\n",
      "  1370   319  5532   302   786  1139    22  2608  1892  5565   271   705\n",
      "     4  1160   391  2002   372   383  2002     3  1265 14443  1892  1810\n",
      "    64 22722 26006  1772   315  1788  3417    13  1179   391    44   819\n",
      "    21   274  2901   344    61   591   386     3 22748 26869   648  1794\n",
      "   208    93  3995    93    94    45     8   333   391    79   900 16495\n",
      "    93  1157   386   471    10   849  2491    43 17940   810     2   524\n",
      "   376  1864   155   543 23476   127     8   333    79   900  1152  1126\n",
      "  1491   348    65  1969  1234   859    86   239   286   984    75   581\n",
      "   348     5  2502   705  1302  2375  1620  7294  3872  3182  9070  1126\n",
      "  2002   168   366  1525     5    79    61   591   102  1186     6 14443\n",
      "   929    98  3169    24 29399  2281  9693   101   734   404   418     3\n",
      "     6 14443  2561   398     4  1434    50    79   472    37     9   984\n",
      "   850  7050  2543    35 12364 21897   811  1215    93  1936  7942    35\n",
      "     9  1472  7219  7804  4311  1428  4211   620  9542  3883  1401   543\n",
      "  4150  3407    12   885   620    69 27406     2 32576  7219    93 32016\n",
      "  5796  9542   667  4088    12    10     2   254  2059    93   123 29353\n",
      "    95   620  3023  9542    69 33029  2410  3883  5588  3453   376  5328\n",
      "    46    13  4610 10173    93  2008   696   270   110   259  2777   323\n",
      "  7709  3982   740  3696  5796   214 22113   386     8    13    75  1940\n",
      "   999   814   832    90   580  3064  1336  1521 10658  1603     8    13\n",
      "   900    79    79]\n",
      "\n",
      "Tensor of all sequences has shape: (2225, None)\n",
      "\n",
      "This means there are 2225 sequences in total and each one has a size of None\n"
     ]
    }
   ],
   "source": [
    "# Vectorize and pad sentences\n",
    "padded_sequences = vectorizer(standard_sentences)\n",
    "\n",
    "# Show the output\n",
    "print(f\"First padded sequence looks like this: \\n\\n{padded_sequences[0]}\\n\")\n",
    "print(f\"Tensor of all sequences has shape: {padded_sequences.shape}\\n\")\n",
    "print(f\"This means there are {padded_sequences.shape[0]} sequences in total and each one has a size of {padded_sequences.shape[1]}\")"
   ]
  },
  {
   "cell_type": "markdown",
   "id": "ff3ef524",
   "metadata": {},
   "source": [
    "Notice that now the variable refers to `sequences` rather than `sentences`. This is because all your text data is now encoded as a sequence of integers."
   ]
  },
  {
   "cell_type": "markdown",
   "id": "2558ecac-f7c3-4417-bef7-8d926a225b01",
   "metadata": {},
   "source": [
    "## Exercise 4: fit_label_encoder\n",
    "\n",
    "\n",
    "With the sentences already vectorized it is time to encode the labels so they can also be fed into a neural network. For this complete the `fit_label_encoder` below. \n",
    "\n",
    "This function should receive the list of labels as input and return a [`tf.keras.layers.StringLookup`](https://www.tensorflow.org/api_docs/python/tf/keras/layers/StringLookup) that has been adapted to those sentences. In theory you could also use `tf.keras.layers.TextVectorization` layer here but it provides a lot of extra functionality that is not required so it ends up being overkill. `tf.keras.layers.StringLookup` is able to perform the job just fine and it is much simpler.\n",
    "\n",
    "**Hints:**\n",
    "- Since all of the texts have their corresponding labels you need to ensure that the vocabulary does not include the out-of-vocabulary (OOV) token since that is not a valid label."
   ]
  },
  {
   "cell_type": "code",
   "execution_count": 52,
   "id": "aa48558a",
   "metadata": {
    "deletable": false,
    "tags": [
     "graded"
    ]
   },
   "outputs": [],
   "source": [
    "# GRADED FUNCTION: fit_label_encoder\n",
    "\n",
    "def fit_label_encoder(labels):\n",
    "    \"\"\"\n",
    "    Tokenizes the labels\n",
    "    \n",
    "    Args:\n",
    "        labels (list[str]): labels to tokenize\n",
    "    \n",
    "    Returns:\n",
    "        tf.keras.layers.StringLookup: adapted encoder for labels\n",
    "    \"\"\"\n",
    "    ### START CODE HERE ###\n",
    "    \n",
    "    # Instantiate the StringLookup layer. Remember that you don't want any OOV tokens!\n",
    "    label_encoder = tf.keras.layers.StringLookup(num_oov_indices=0)\n",
    "    \n",
    "    # Adapt the StringLookup layer to the labels\n",
    "    label_encoder.adapt(labels)\n",
    "\t\n",
    "    ### END CODE HERE ###\n",
    "    \n",
    "    return label_encoder"
   ]
  },
  {
   "cell_type": "code",
   "execution_count": 53,
   "id": "dd71a405",
   "metadata": {
    "deletable": false,
    "editable": false
   },
   "outputs": [
    {
     "name": "stdout",
     "output_type": "stream",
     "text": [
      "Vocabulary of labels looks like this: ['sport', 'business', 'politics', 'tech', 'entertainment']\n",
      "\n",
      "First ten labels: ['tech', 'business', 'sport', 'sport', 'entertainment', 'politics', 'politics', 'sport', 'sport', 'entertainment']\n",
      "\n",
      "First ten label sequences: [3 1 0 0 4 2 2 0 0 4]\n",
      "\n"
     ]
    }
   ],
   "source": [
    "# Create the encoder adapted to the labels\n",
    "label_encoder = fit_label_encoder(labels)\n",
    "\n",
    "# Get the vocabulary\n",
    "vocabulary = label_encoder.get_vocabulary()\n",
    "\n",
    "# Encode labels\n",
    "label_sequences = label_encoder(labels)\n",
    "\n",
    "print(f\"Vocabulary of labels looks like this: {vocabulary}\\n\")\n",
    "print(f\"First ten labels: {labels[:10]}\\n\")\n",
    "print(f\"First ten label sequences: {label_sequences[:10]}\\n\")"
   ]
  },
  {
   "cell_type": "markdown",
   "id": "2e187514",
   "metadata": {},
   "source": [
    "***Expected Output:***\n",
    "```\n",
    "Vocabulary of labels looks like this: ['sport', 'business', 'politics', 'tech', 'entertainment']\n",
    "\n",
    "First ten labels: ['tech', 'business', 'sport', 'sport', 'entertainment', 'politics', 'politics', 'sport', 'sport', 'entertainment']\n",
    "\n",
    "First ten label sequences: [3 1 0 0 4 2 2 0 0 4]\n",
    "\n",
    "```"
   ]
  },
  {
   "cell_type": "markdown",
   "id": "03383492",
   "metadata": {},
   "source": [
    "You should see that each encoded label corresponds to the index of its corresponding label in the vocabulary!"
   ]
  },
  {
   "cell_type": "code",
   "execution_count": 54,
   "id": "71e8ad91-049b-47cf-85f8-51350635a81e",
   "metadata": {
    "deletable": false,
    "editable": false
   },
   "outputs": [
    {
     "name": "stdout",
     "output_type": "stream",
     "text": [
      "\u001b[92m All tests passed!\n"
     ]
    }
   ],
   "source": [
    "# Test your code!\n",
    "unittests.test_fit_label_encoder(fit_label_encoder)"
   ]
  },
  {
   "cell_type": "markdown",
   "id": "dcb859f2",
   "metadata": {
    "id": "6rITvNKqT-51"
   },
   "source": [
    "Great job! Now you have successfully performed all the necessary steps to train a neural network capable of processing text. This is all for now but in next week's assignment you will train a model capable of classifying the texts in this same dataset!\n",
    "\n",
    "\n",
    "**Congratulations on finishing this week's assignment!**\n",
    "\n",
    "You have successfully implemented functions to process various text data processing ranging from pre-processing, reading from raw files and tokenizing text.\n",
    "\n",
    "**Keep it up!**"
   ]
  }
 ],
 "metadata": {
  "dlai_version": "1.2.0",
  "grader_version": "1",
  "kernelspec": {
   "display_name": "Python 3 (ipykernel)",
   "language": "python",
   "name": "python3"
  },
  "language_info": {
   "codemirror_mode": {
    "name": "ipython",
    "version": 3
   },
   "file_extension": ".py",
   "mimetype": "text/x-python",
   "name": "python",
   "nbconvert_exporter": "python",
   "pygments_lexer": "ipython3",
   "version": "3.11.6"
  }
 },
 "nbformat": 4,
 "nbformat_minor": 5
}
